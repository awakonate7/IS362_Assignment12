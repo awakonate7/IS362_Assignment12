{
 "cells": [
  {
   "cell_type": "markdown",
   "id": "d9ef3f05",
   "metadata": {},
   "source": [
    "Awa Konate - Assignment 12: Preprocessing Data for scikit-learn - IS 362\n",
    "Tasks: • First study the dataset and the associated description of the data (i.e. “data dictionary”). You may need to look around a bit, but it’s there! • Create a pandas DataFrame with a subset of the columns in the dataset. You should include the column that indicates edible or poisonous, the column that includes odor, and at least one other column of your choosing. • Add meaningful names for each column. • Replace the codes used in the data with numeric values—for example, in the first “target” column, “e” might become 0 and “p” might become 1. This is because your downstream processing in Project 4 using scikit-learn requires that values be stored as numerics. • Perform exploratory data analysis: show the distribution of data for each of the columns you selected, and show scatterplots for edible/poisonous vs. odor as well as the other column that you selected. • Include some text describing your preliminary conclusions about whether either of the other columns could be helpful in predicting if a specific mushroom is edible or poisonous.\n",
    "\n",
    "Importing modules"
   ]
  },
  {
   "cell_type": "code",
   "execution_count": null,
   "id": "0776c6f7",
   "metadata": {},
   "outputs": [],
   "source": [
    "import urllib.request\n",
    "import pandas as pd\n",
    "import numpy as np\n",
    "from sklearn.linear_model import LogisticRegression\n",
    "from sklearn import metrics\n",
    "from matplotlib import pyplot as plt\n",
    "import seaborn as sns"
   ]
  },
  {
   "cell_type": "markdown",
   "id": "f6d7c846",
   "metadata": {},
   "source": [
    "Download and / or create the data frame found in https://archive.ics.uci.edu/ml/machine-learning-databases/mushroom/\n",
    "\n",
    "Creating a data frame with the data."
   ]
  },
  {
   "cell_type": "code",
   "execution_count": null,
   "id": "77617551",
   "metadata": {},
   "outputs": [],
   "source": [
    "df = pd.read_csv('https://archive.ics.uci.edu/ml/machine-learning-databases/mushroom/agaricus-lepiota.data',header=None)"
   ]
  },
  {
   "cell_type": "code",
   "execution_count": null,
   "id": "b34ee9e9",
   "metadata": {},
   "outputs": [],
   "source": [
    "df.head()"
   ]
  },
  {
   "cell_type": "code",
   "execution_count": null,
   "id": "d0a6921f",
   "metadata": {},
   "outputs": [],
   "source": [
    "0\t1\t2\t3\t4\t5\t6\t7\t8\t9\t...\t13\t14\t15\t16\t17\t18\t19\t20\t21\t22\n",
    "0\tp\tx\ts\tn\tt\tp\tf\tc\tn\tk\t...\ts\tw\tw\tp\tw\to\tp\tk\ts\tu\n",
    "1\te\tx\ts\ty\tt\ta\tf\tc\tb\tk\t...\ts\tw\tw\tp\tw\to\tp\tn\tn\tg\n",
    "2\te\tb\ts\tw\tt\tl\tf\tc\tb\tn\t...\ts\tw\tw\tp\tw\to\tp\tn\tn\tm\n",
    "3\tp\tx\ty\tw\tt\tp\tf\tc\tn\tn\t...\ts\tw\tw\tp\tw\to\tp\tk\ts\tu\n",
    "4\te\tx\ts\tg\tf\tn\tf\tw\tb\tk\t...\ts\tw\tw\tp\tw\to\te\tn\ta\tg"
   ]
  },
  {
   "cell_type": "markdown",
   "id": "b16f270f",
   "metadata": {},
   "source": [
    "5 rows × 23 columns"
   ]
  },
  {
   "cell_type": "markdown",
   "id": "cea7d116",
   "metadata": {},
   "source": [
    "Updating the file\n",
    "Create a pandas DataFrame with a subset of columns in the dataset. There are three columns that indicate: whether the mushrooms are edible or poisonous, their odor, and their population\n"
   ]
  },
  {
   "cell_type": "code",
   "execution_count": null,
   "id": "2a1be336",
   "metadata": {},
   "outputs": [],
   "source": [
    "df = pd.read_csv('https://archive.ics.uci.edu/ml/machine-learning-databases/mushroom/agaricus-lepiota.data', \n",
    "                            sep=',', \n",
    "                            header=None, \n",
    "                            usecols=[0,5,21], \n",
    "                            names=['Edible/Poisonous','Odor','Population'])\n"
   ]
  },
  {
   "cell_type": "code",
   "execution_count": null,
   "id": "8fb572f7",
   "metadata": {},
   "outputs": [],
   "source": [
    "df.head()"
   ]
  },
  {
   "cell_type": "code",
   "execution_count": null,
   "id": "6f5d3a77",
   "metadata": {},
   "outputs": [],
   "source": [
    "Edible/Poisonous\tOdor\tPopulation\n",
    "0\tp\tp\ts\n",
    "1\te\ta\tn\n",
    "2\te\tl\tn\n",
    "3\tp\tp\ts\n",
    "4\te\tn\ta"
   ]
  },
  {
   "cell_type": "markdown",
   "id": "a307a733",
   "metadata": {},
   "source": [
    "Replacing the codes used in the data with numeric values"
   ]
  },
  {
   "cell_type": "code",
   "execution_count": null,
   "id": "c69577a7",
   "metadata": {},
   "outputs": [],
   "source": [
    "df['Edible/Poisonous'].replace({'e':0, 'p': 1}, inplace=True)\n",
    "df['Odor'].replace({'a':0, 'l':1, 'c':2, 'y':3, 'f':4, 'm':5, 'n':6, 'p':7, 's':8}, inplace=True)\n",
    "df['Population'].replace({'a':0, 'c':1, 'n':2, 's':3, 'v':4, 'y':5}, inplace=True)"
   ]
  },
  {
   "cell_type": "code",
   "execution_count": null,
   "id": "25765ae8",
   "metadata": {},
   "outputs": [],
   "source": [
    "df"
   ]
  },
  {
   "cell_type": "code",
   "execution_count": null,
   "id": "70d0e860",
   "metadata": {},
   "outputs": [],
   "source": [
    "\tEdible/Poisonous\tOdor\tPopulation\n",
    "0\t1\t7\t3\n",
    "1\t0\t0\t2\n",
    "2\t0\t1\t2\n",
    "3\t1\t7\t3\n",
    "4\t0\t6\t0\n",
    "...\t...\t...\t...\n",
    "8119\t0\t6\t1\n",
    "8120\t0\t6\t4\n",
    "8121\t0\t6\t1\n",
    "8122\t1\t3\t4\n",
    "8123\t0\t6\t1\n"
   ]
  },
  {
   "cell_type": "markdown",
   "id": "8029d6b5",
   "metadata": {},
   "source": [
    "8124 rows × 3 columns"
   ]
  },
  {
   "cell_type": "code",
   "execution_count": null,
   "id": "adaed496",
   "metadata": {},
   "outputs": [],
   "source": [
    "Creating the graphs\n",
    "The first graph shows the data in the \"Edible/Poisonous\" column. This data shows that there are more edible mushrooms than poisonous.\n"
   ]
  },
  {
   "cell_type": "code",
   "execution_count": null,
   "id": "4156e4e0",
   "metadata": {},
   "outputs": [],
   "source": [
    "sns.countplot(x = 'Edible/Poisonous', data = df)"
   ]
  },
  {
   "cell_type": "code",
   "execution_count": null,
   "id": "754bbdc4",
   "metadata": {},
   "outputs": [],
   "source": [
    "<matplotlib.axes._subplots.AxesSubplot at 0x1ca95230f10>\n"
   ]
  },
  {
   "cell_type": "markdown",
   "id": "079ffda6",
   "metadata": {},
   "source": [
    "This graph is showing the data in the Odor column."
   ]
  },
  {
   "cell_type": "code",
   "execution_count": null,
   "id": "e8c444db",
   "metadata": {},
   "outputs": [],
   "source": [
    "sns.countplot(x = 'Odor', data = df)"
   ]
  },
  {
   "cell_type": "code",
   "execution_count": null,
   "id": "998eecf3",
   "metadata": {},
   "outputs": [],
   "source": [
    "<matplotlib.axes._subplots.AxesSubplot at 0x1ca959e0be0>"
   ]
  },
  {
   "cell_type": "markdown",
   "id": "c5de202d",
   "metadata": {},
   "source": [
    "This graph shows the data in the Population column."
   ]
  },
  {
   "cell_type": "code",
   "execution_count": null,
   "id": "368cad66",
   "metadata": {},
   "outputs": [],
   "source": [
    "sns.countplot(x = 'Population', data = df)"
   ]
  },
  {
   "cell_type": "code",
   "execution_count": null,
   "id": "918768f7",
   "metadata": {},
   "outputs": [],
   "source": [
    "<matplotlib.axes._subplots.AxesSubplot at 0x1ca95a1bb20>"
   ]
  },
  {
   "cell_type": "markdown",
   "id": "217194b2",
   "metadata": {},
   "source": [
    "This scatterplot shows the distribution of data between Edible/Poisonous mushrooms vs. odor vs. population"
   ]
  },
  {
   "cell_type": "code",
   "execution_count": null,
   "id": "7e1781e7",
   "metadata": {},
   "outputs": [],
   "source": [
    "sns.set(style=\"ticks\", context=\"talk\")\n",
    "pal = sns.cubehelix_palette(4, 1.5, .75, light=.6, dark=.2)\n",
    "g = sns.lmplot(x='Odor', y='Population', hue='Edible/Poisonous', data=df, palette=pal, height=7)\n",
    "g.set_axis_labels('Odor', 'Population')\n",
    "plt.show()"
   ]
  },
  {
   "cell_type": "markdown",
   "id": "34ab9cad",
   "metadata": {},
   "source": [
    "- Odor is the most helpful of the three criteria.\n",
    "- Looking at the colors of the caps and gills of the mushrooms only provides a minimal amount of help, because there is a an overlap between what is poisonous and what is edible.\n",
    "- many colors can have mushrooms from either category.\n"
   ]
  },
  {
   "cell_type": "code",
   "execution_count": null,
   "id": "b7735c62",
   "metadata": {},
   "outputs": [],
   "source": []
  }
 ],
 "metadata": {
  "kernelspec": {
   "display_name": "Python 3 (ipykernel)",
   "language": "python",
   "name": "python3"
  },
  "language_info": {
   "codemirror_mode": {
    "name": "ipython",
    "version": 3
   },
   "file_extension": ".py",
   "mimetype": "text/x-python",
   "name": "python",
   "nbconvert_exporter": "python",
   "pygments_lexer": "ipython3",
   "version": "3.9.7"
  }
 },
 "nbformat": 4,
 "nbformat_minor": 5
}
